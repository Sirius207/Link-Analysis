{
 "cells": [
  {
   "cell_type": "markdown",
   "metadata": {},
   "source": [
    "<h1 style=\"text-align: center;\">Data Mining Project 3: Link Analysis</h1>\n",
    "\n",
    "<p style=\"text-align:center;\">\n",
    "    呂伯駿<br>\n",
    "    Q56074085<br>\n",
    "    NetDB<br>\n",
    "    National Cheng Kung University<br>\n",
    "    pclu@netdb.csie.ncku.edu.tw\n",
    "</p>\n"
   ]
  },
  {
   "cell_type": "markdown",
   "metadata": {},
   "source": [
    "## 1. Introduction\n",
    "\n",
    "本次報告的目的是觀察，了解其適用情境。 報告中透過隨機分類規則合成不同資料，再進行實驗了解不同參數對分類效果的影響。\n",
    "\n",
    "\n",
    "## 2. Environment\n",
    "\n",
    "這個部分我將會說明實驗所使用的環境與使用資料集。\n",
    "\n",
    "### 2.1 System Preferences\n",
    "\n",
    "實驗環境如下：\n",
    "- <b>Operating System</b>: macOS High Mojave (10.14.1)\n",
    "- <b>CPU</b>: 1.3 GHz Intel Core i5\n",
    "- <b>Memory</b>: 8 GB 1600 MHz DDR3\n",
    "- <b>Programming Language</b> : Python 3.6.2\n",
    "\n",
    "由於所用之 Graph Data 最多僅有 5220 個Link，實驗環境記憶體足以符合實驗需求。\n",
    "\n",
    "### 2.2 Dataset\n",
    "\n",
    "#### 資料參數：\n",
    "\n",
    "\n",
    "\n",
    "#### 欄位說明：\n",
    "\n",
    "\n",
    "#### 分類說明：\n",
    "\n",
    "\n",
    "#### 資料範例：\n"
   ]
  },
  {
   "cell_type": "code",
   "execution_count": null,
   "metadata": {},
   "outputs": [],
   "source": []
  },
  {
   "cell_type": "markdown",
   "metadata": {},
   "source": [
    "## 3. Implementation\n",
    "\n",
    "## 4. Analysis"
   ]
  },
  {
   "cell_type": "markdown",
   "metadata": {},
   "source": [
    "## 5. Conclusion"
   ]
  },
  {
   "cell_type": "code",
   "execution_count": null,
   "metadata": {},
   "outputs": [],
   "source": []
  }
 ],
 "metadata": {
  "kernelspec": {
   "display_name": "Python 3",
   "language": "python",
   "name": "python3"
  },
  "language_info": {
   "codemirror_mode": {
    "name": "ipython",
    "version": 3
   },
   "file_extension": ".py",
   "mimetype": "text/x-python",
   "name": "python",
   "nbconvert_exporter": "python",
   "pygments_lexer": "ipython3",
   "version": "3.6.2"
  }
 },
 "nbformat": 4,
 "nbformat_minor": 2
}
