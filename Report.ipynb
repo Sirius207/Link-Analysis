{
 "cells": [
  {
   "cell_type": "markdown",
   "metadata": {},
   "source": [
    "<h1 style=\"text-align: center;\">Data Mining Project 3: Link Analysis</h1>\n",
    "\n",
    "<p style=\"text-align:center;\">\n",
    "    呂伯駿<br>\n",
    "    Q56074085<br>\n",
    "    NetDB<br>\n",
    "    National Cheng Kung University<br>\n",
    "    pclu@netdb.csie.ncku.edu.tw\n",
    "</p>\n"
   ]
  },
  {
   "cell_type": "markdown",
   "metadata": {},
   "source": [
    "## 1. Introduction\n",
    "\n",
    "本次報告的目的是觀察不同參數之 Graph 其 Hubs, authority, pageRank 與 Simrank 的變化，並透過增減 links 實驗了解參數對數值的影響。\n",
    "\n",
    "\n",
    "## 2. Environment\n",
    "\n",
    "這個部分我將會說明實驗所使用的環境與使用資料集。\n",
    "\n",
    "### 2.1 System Preferences\n",
    "\n",
    "實驗環境如下：\n",
    "- <b>Operating System</b>: macOS High Mojave (10.14.1)\n",
    "- <b>CPU</b>: 1.3 GHz Intel Core i5\n",
    "- <b>Memory</b>: 8 GB 1600 MHz DDR3\n",
    "- <b>Programming Language</b> : Python 3.6.2\n",
    "\n",
    "由於所用之 Graph Data 最多僅有 5220 個Link，實驗環境記憶體足以符合實驗需求。\n",
    "\n",
    "### 2.2 Dataset\n",
    "\n",
    "#### 資料參數：\n",
    "\n",
    "實驗使用 7 種 Graph，其 nodes 數目與 links 數目如下表：\n",
    "\n",
    "| Graph ID   |     Nodes      |  Edges |\n",
    "|----------|:-------------:|------:|\n",
    "| 1 |  6 | 5  |\n",
    "| 2 |  5 | 5  |\n",
    "| 3 |  4 | 6  |\n",
    "| 4 |  7 |  18 |\n",
    "| 5 | 469  |  1102 |\n",
    "| 6 |  1228 | 5220  |\n",
    "| 7 |  2316 | 4714  |\n",
    "\n"
   ]
  },
  {
   "cell_type": "code",
   "execution_count": null,
   "metadata": {},
   "outputs": [],
   "source": []
  },
  {
   "cell_type": "markdown",
   "metadata": {},
   "source": [
    "## 3. Implementation\n",
    "\n",
    "### 3.1 HITS\n",
    "\n",
    "\n",
    "\n",
    "\n",
    "### 3.2 PageRank\n",
    "\n",
    "\n",
    "\n",
    "### 3.3 SimRank\n",
    "\n",
    "\n",
    "\n",
    "## 4. Analysis\n",
    "\n",
    "### 4.1 Methods to Increase hub, authority,  and PageRank\n",
    "\n",
    "本小節嘗試透過增減 links 與 nodes 來增加 node 1 的 hub, authority, and PageRank。\n",
    "\n",
    "#### a. Graph 1\n",
    "\n",
    "\n",
    "#### b. Graph 2\n",
    "\n",
    "\n",
    "\n",
    "#### c. Graph 3\n",
    "\n",
    "\n",
    "### 4.2 Results\n",
    "\n",
    "#### a. Graph 1\n",
    "\n",
    "\n",
    "#### b. Graph 2\n",
    "\n",
    "\n",
    "#### c. Graph 3\n",
    "\n",
    "#### d. Graph 4\n",
    "\n",
    "#### e. Graph 5\n",
    "\n",
    "#### f. Graph 6\n",
    "\n",
    "\n",
    "#### g. Graph 7\n",
    "\n",
    "\n"
   ]
  },
  {
   "cell_type": "markdown",
   "metadata": {},
   "source": [
    "## 5. Conclusion\n",
    "\n",
    "\n",
    "## 6. References\n",
    "\n",
    "- [] Glen Jeh, Jennifer Widom. SimRank: A Measure of Structural-Context Similarity"
   ]
  },
  {
   "cell_type": "code",
   "execution_count": null,
   "metadata": {},
   "outputs": [],
   "source": []
  }
 ],
 "metadata": {
  "kernelspec": {
   "display_name": "Python 3",
   "language": "python",
   "name": "python3"
  },
  "language_info": {
   "codemirror_mode": {
    "name": "ipython",
    "version": 3
   },
   "file_extension": ".py",
   "mimetype": "text/x-python",
   "name": "python",
   "nbconvert_exporter": "python",
   "pygments_lexer": "ipython3",
   "version": "3.6.2"
  }
 },
 "nbformat": 4,
 "nbformat_minor": 2
}
